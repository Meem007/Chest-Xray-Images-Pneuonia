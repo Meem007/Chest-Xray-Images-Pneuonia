{
 "cells": [
  {
   "cell_type": "markdown",
   "id": "2a4866ba",
   "metadata": {},
   "source": [
    "### Project : Chest x-ray images of Pneumoia"
   ]
  },
  {
   "cell_type": "code",
   "execution_count": 1,
   "id": "f090d9d7",
   "metadata": {},
   "outputs": [
    {
     "name": "stdout",
     "output_type": "stream",
     "text": [
      "Requirement already satisfied: opencv-python in c:\\users\\meemk\\anaconda3\\lib\\site-packages (4.6.0.66)\n",
      "Requirement already satisfied: numpy>=1.14.5 in c:\\users\\meemk\\anaconda3\\lib\\site-packages (from opencv-python) (1.21.5)\n"
     ]
    }
   ],
   "source": [
    "!pip install opencv-python"
   ]
  },
  {
   "cell_type": "code",
   "execution_count": 16,
   "id": "4fc8bc80",
   "metadata": {},
   "outputs": [],
   "source": [
    "# Imports Libaries\n",
    "import os\n",
    "import matplotlib.pyplot as plt\n",
    "from PIL import Image\n",
    "import math\n",
    "import numpy as np\n",
    "import keras\n",
    "# from keras_preprocessing.image import img_to_array\n",
    "from tensorflow.keras.utils import array_to_img\n",
    "from keras.preprocessing import image\n",
    "import cv2\n",
    "from skimage.io import imread\n",
    "from pathlib import Path\n",
    "import glob\n",
    "import pandas as pd\n",
    "from PIL import Image\n",
    "from numpy import asarray\n",
    "import numpy as np\n",
    "import pandas as pd\n",
    "import cv2\n",
    "import os\n",
    "from sklearn.model_selection import train_test_split\n",
    "import tensorflow as tf\n",
    "from tensorflow.keras.models import Sequential\n",
    "from tensorflow.keras.layers import Conv2D, MaxPooling2D, Flatten, Dense, Dropout\n",
    "import numpy as np\n",
    "import pandas as pd\n",
    "import tensorflow as tf\n",
    "from sklearn.preprocessing import LabelEncoder\n",
    "from sklearn.model_selection import train_test_split\n",
    "from tensorflow.keras.models import Sequential\n",
    "from tensorflow.keras.layers import Conv2D, MaxPooling2D, Flatten, Dense\n",
    "from tensorflow.keras.utils import to_categorical\n",
    "import numpy as np\n",
    "from sklearn.metrics import confusion_matrix\n",
    "import matplotlib.pyplot as plt\n",
    "import seaborn as sns\n",
    "from sklearn.preprocessing import LabelEncoder\n",
    "from tensorflow.keras.utils import to_categorical\n",
    "from tensorflow.keras.applications import ResNet50\n",
    "import tensorflow as tf"
   ]
  },
  {
   "cell_type": "markdown",
   "id": "3b3c5574",
   "metadata": {},
   "source": [
    "#### Read all train images from folder"
   ]
  },
  {
   "cell_type": "code",
   "execution_count": 2,
   "id": "6d1c6767",
   "metadata": {},
   "outputs": [
    {
     "data": {
      "text/html": [
       "<div>\n",
       "<style scoped>\n",
       "    .dataframe tbody tr th:only-of-type {\n",
       "        vertical-align: middle;\n",
       "    }\n",
       "\n",
       "    .dataframe tbody tr th {\n",
       "        vertical-align: top;\n",
       "    }\n",
       "\n",
       "    .dataframe thead th {\n",
       "        text-align: right;\n",
       "    }\n",
       "</style>\n",
       "<table border=\"1\" class=\"dataframe\">\n",
       "  <thead>\n",
       "    <tr style=\"text-align: right;\">\n",
       "      <th></th>\n",
       "      <th>train_images</th>\n",
       "      <th>img_label</th>\n",
       "    </tr>\n",
       "  </thead>\n",
       "  <tbody>\n",
       "    <tr>\n",
       "      <th>0</th>\n",
       "      <td>[24, 24, 24, 20, 20, 20, 19, 19, 19, 17, 17, 1...</td>\n",
       "      <td>NORMAL</td>\n",
       "    </tr>\n",
       "    <tr>\n",
       "      <th>1</th>\n",
       "      <td>[14, 14, 14, 24, 24, 24, 25, 25, 25, 31, 31, 3...</td>\n",
       "      <td>NORMAL</td>\n",
       "    </tr>\n",
       "    <tr>\n",
       "      <th>2</th>\n",
       "      <td>[0, 0, 0, 0, 0, 0, 0, 0, 0, 8, 8, 8, 18, 18, 1...</td>\n",
       "      <td>NORMAL</td>\n",
       "    </tr>\n",
       "    <tr>\n",
       "      <th>3</th>\n",
       "      <td>[40, 40, 40, 46, 46, 46, 47, 47, 47, 55, 55, 5...</td>\n",
       "      <td>NORMAL</td>\n",
       "    </tr>\n",
       "    <tr>\n",
       "      <th>4</th>\n",
       "      <td>[77, 77, 77, 77, 77, 77, 62, 62, 62, 57, 57, 5...</td>\n",
       "      <td>NORMAL</td>\n",
       "    </tr>\n",
       "    <tr>\n",
       "      <th>...</th>\n",
       "      <td>...</td>\n",
       "      <td>...</td>\n",
       "    </tr>\n",
       "    <tr>\n",
       "      <th>5211</th>\n",
       "      <td>[0, 0, 0, 0, 0, 0, 0, 0, 0, 0, 0, 0, 0, 0, 0, ...</td>\n",
       "      <td>PNEUMONIA</td>\n",
       "    </tr>\n",
       "    <tr>\n",
       "      <th>5212</th>\n",
       "      <td>[92, 92, 92, 98, 98, 98, 96, 96, 96, 93, 93, 9...</td>\n",
       "      <td>PNEUMONIA</td>\n",
       "    </tr>\n",
       "    <tr>\n",
       "      <th>5213</th>\n",
       "      <td>[25, 25, 25, 23, 23, 23, 20, 20, 20, 14, 14, 1...</td>\n",
       "      <td>PNEUMONIA</td>\n",
       "    </tr>\n",
       "    <tr>\n",
       "      <th>5214</th>\n",
       "      <td>[29, 29, 29, 37, 37, 37, 38, 38, 38, 40, 40, 4...</td>\n",
       "      <td>PNEUMONIA</td>\n",
       "    </tr>\n",
       "    <tr>\n",
       "      <th>5215</th>\n",
       "      <td>[13, 13, 13, 14, 14, 14, 12, 12, 12, 8, 8, 8, ...</td>\n",
       "      <td>PNEUMONIA</td>\n",
       "    </tr>\n",
       "  </tbody>\n",
       "</table>\n",
       "<p>5216 rows × 2 columns</p>\n",
       "</div>"
      ],
      "text/plain": [
       "                                           train_images  img_label\n",
       "0     [24, 24, 24, 20, 20, 20, 19, 19, 19, 17, 17, 1...     NORMAL\n",
       "1     [14, 14, 14, 24, 24, 24, 25, 25, 25, 31, 31, 3...     NORMAL\n",
       "2     [0, 0, 0, 0, 0, 0, 0, 0, 0, 8, 8, 8, 18, 18, 1...     NORMAL\n",
       "3     [40, 40, 40, 46, 46, 46, 47, 47, 47, 55, 55, 5...     NORMAL\n",
       "4     [77, 77, 77, 77, 77, 77, 62, 62, 62, 57, 57, 5...     NORMAL\n",
       "...                                                 ...        ...\n",
       "5211  [0, 0, 0, 0, 0, 0, 0, 0, 0, 0, 0, 0, 0, 0, 0, ...  PNEUMONIA\n",
       "5212  [92, 92, 92, 98, 98, 98, 96, 96, 96, 93, 93, 9...  PNEUMONIA\n",
       "5213  [25, 25, 25, 23, 23, 23, 20, 20, 20, 14, 14, 1...  PNEUMONIA\n",
       "5214  [29, 29, 29, 37, 37, 37, 38, 38, 38, 40, 40, 4...  PNEUMONIA\n",
       "5215  [13, 13, 13, 14, 14, 14, 12, 12, 12, 8, 8, 8, ...  PNEUMONIA\n",
       "\n",
       "[5216 rows x 2 columns]"
      ]
     },
     "execution_count": 2,
     "metadata": {},
     "output_type": "execute_result"
    }
   ],
   "source": [
    "# Load all train images from directory\n",
    "data_dir = './train'\n",
    "img_path = []\n",
    "img_label = []\n",
    "\n",
    "folds = os.listdir(data_dir)\n",
    "\n",
    "for img in folds:\n",
    "    foldpath = os.path.join(data_dir, img)\n",
    "    imglist = os.listdir(foldpath)\n",
    "    \n",
    "    for file in imglist:\n",
    "        fpath = os.path.join(foldpath, file)\n",
    "        img_path.append(fpath)\n",
    "        img_label.append(img)\n",
    "\n",
    "# Load images and labels into arrays\n",
    "images = []\n",
    "for path in img_path:\n",
    "    img = cv2.imread(path)  # Read the image using OpenCV\n",
    "    img = cv2.cvtColor(img, cv2.COLOR_BGR2RGB)  # Convert BGR to RGB\n",
    "    img = cv2.resize(img, (224, 224))  # Resize the image to a consistent size\n",
    "    images.append(img.flatten())  # Flatten the image array\n",
    "\n",
    "# Convert image list to a numpy array\n",
    "images = np.array(images)\n",
    "\n",
    "# Create a DataFrame with image arrays and labels\n",
    "df = pd.DataFrame({'train_images': images.tolist(), 'img_label': img_label})\n",
    "\n",
    "# Display the DataFrame\n",
    "df\n"
   ]
  },
  {
   "cell_type": "markdown",
   "id": "1339eec7",
   "metadata": {},
   "source": [
    "#### Read all validation images from directory"
   ]
  },
  {
   "cell_type": "code",
   "execution_count": 3,
   "id": "8b2a8950",
   "metadata": {},
   "outputs": [
    {
     "data": {
      "text/html": [
       "<div>\n",
       "<style scoped>\n",
       "    .dataframe tbody tr th:only-of-type {\n",
       "        vertical-align: middle;\n",
       "    }\n",
       "\n",
       "    .dataframe tbody tr th {\n",
       "        vertical-align: top;\n",
       "    }\n",
       "\n",
       "    .dataframe thead th {\n",
       "        text-align: right;\n",
       "    }\n",
       "</style>\n",
       "<table border=\"1\" class=\"dataframe\">\n",
       "  <thead>\n",
       "    <tr style=\"text-align: right;\">\n",
       "      <th></th>\n",
       "      <th>Validation_images</th>\n",
       "      <th>img_label</th>\n",
       "    </tr>\n",
       "  </thead>\n",
       "  <tbody>\n",
       "    <tr>\n",
       "      <th>0</th>\n",
       "      <td>[50, 50, 50, 0, 0, 0, 14, 14, 14, 19, 19, 19, ...</td>\n",
       "      <td>NORMAL</td>\n",
       "    </tr>\n",
       "    <tr>\n",
       "      <th>1</th>\n",
       "      <td>[189, 189, 189, 0, 0, 0, 176, 176, 176, 86, 86...</td>\n",
       "      <td>NORMAL</td>\n",
       "    </tr>\n",
       "    <tr>\n",
       "      <th>2</th>\n",
       "      <td>[55, 55, 55, 0, 0, 0, 77, 77, 77, 86, 86, 86, ...</td>\n",
       "      <td>NORMAL</td>\n",
       "    </tr>\n",
       "    <tr>\n",
       "      <th>3</th>\n",
       "      <td>[123, 123, 123, 0, 0, 0, 173, 173, 173, 77, 77...</td>\n",
       "      <td>NORMAL</td>\n",
       "    </tr>\n",
       "    <tr>\n",
       "      <th>4</th>\n",
       "      <td>[77, 77, 77, 1, 1, 1, 89, 89, 89, 17, 17, 17, ...</td>\n",
       "      <td>NORMAL</td>\n",
       "    </tr>\n",
       "    <tr>\n",
       "      <th>5</th>\n",
       "      <td>[149, 149, 149, 4, 4, 4, 183, 183, 183, 64, 64...</td>\n",
       "      <td>NORMAL</td>\n",
       "    </tr>\n",
       "    <tr>\n",
       "      <th>6</th>\n",
       "      <td>[8, 8, 8, 14, 14, 14, 24, 24, 24, 34, 34, 34, ...</td>\n",
       "      <td>NORMAL</td>\n",
       "    </tr>\n",
       "    <tr>\n",
       "      <th>7</th>\n",
       "      <td>[0, 0, 0, 0, 0, 0, 0, 0, 0, 0, 0, 0, 0, 0, 0, ...</td>\n",
       "      <td>NORMAL</td>\n",
       "    </tr>\n",
       "    <tr>\n",
       "      <th>8</th>\n",
       "      <td>[16, 16, 16, 19, 19, 19, 20, 20, 20, 19, 19, 1...</td>\n",
       "      <td>PNEUMONIA</td>\n",
       "    </tr>\n",
       "    <tr>\n",
       "      <th>9</th>\n",
       "      <td>[2, 2, 2, 2, 2, 2, 2, 2, 2, 1, 1, 1, 1, 1, 1, ...</td>\n",
       "      <td>PNEUMONIA</td>\n",
       "    </tr>\n",
       "    <tr>\n",
       "      <th>10</th>\n",
       "      <td>[8, 8, 8, 16, 16, 16, 253, 253, 253, 23, 23, 2...</td>\n",
       "      <td>PNEUMONIA</td>\n",
       "    </tr>\n",
       "    <tr>\n",
       "      <th>11</th>\n",
       "      <td>[0, 0, 0, 0, 0, 0, 0, 0, 0, 10, 10, 10, 13, 13...</td>\n",
       "      <td>PNEUMONIA</td>\n",
       "    </tr>\n",
       "    <tr>\n",
       "      <th>12</th>\n",
       "      <td>[0, 0, 0, 0, 0, 0, 0, 0, 0, 6, 6, 6, 10, 10, 1...</td>\n",
       "      <td>PNEUMONIA</td>\n",
       "    </tr>\n",
       "    <tr>\n",
       "      <th>13</th>\n",
       "      <td>[0, 0, 0, 0, 0, 0, 0, 0, 0, 0, 0, 0, 0, 0, 0, ...</td>\n",
       "      <td>PNEUMONIA</td>\n",
       "    </tr>\n",
       "    <tr>\n",
       "      <th>14</th>\n",
       "      <td>[65, 65, 65, 67, 67, 67, 67, 67, 67, 69, 69, 6...</td>\n",
       "      <td>PNEUMONIA</td>\n",
       "    </tr>\n",
       "    <tr>\n",
       "      <th>15</th>\n",
       "      <td>[0, 0, 0, 0, 0, 0, 0, 0, 0, 1, 1, 1, 2, 2, 2, ...</td>\n",
       "      <td>PNEUMONIA</td>\n",
       "    </tr>\n",
       "  </tbody>\n",
       "</table>\n",
       "</div>"
      ],
      "text/plain": [
       "                                    Validation_images  img_label\n",
       "0   [50, 50, 50, 0, 0, 0, 14, 14, 14, 19, 19, 19, ...     NORMAL\n",
       "1   [189, 189, 189, 0, 0, 0, 176, 176, 176, 86, 86...     NORMAL\n",
       "2   [55, 55, 55, 0, 0, 0, 77, 77, 77, 86, 86, 86, ...     NORMAL\n",
       "3   [123, 123, 123, 0, 0, 0, 173, 173, 173, 77, 77...     NORMAL\n",
       "4   [77, 77, 77, 1, 1, 1, 89, 89, 89, 17, 17, 17, ...     NORMAL\n",
       "5   [149, 149, 149, 4, 4, 4, 183, 183, 183, 64, 64...     NORMAL\n",
       "6   [8, 8, 8, 14, 14, 14, 24, 24, 24, 34, 34, 34, ...     NORMAL\n",
       "7   [0, 0, 0, 0, 0, 0, 0, 0, 0, 0, 0, 0, 0, 0, 0, ...     NORMAL\n",
       "8   [16, 16, 16, 19, 19, 19, 20, 20, 20, 19, 19, 1...  PNEUMONIA\n",
       "9   [2, 2, 2, 2, 2, 2, 2, 2, 2, 1, 1, 1, 1, 1, 1, ...  PNEUMONIA\n",
       "10  [8, 8, 8, 16, 16, 16, 253, 253, 253, 23, 23, 2...  PNEUMONIA\n",
       "11  [0, 0, 0, 0, 0, 0, 0, 0, 0, 10, 10, 10, 13, 13...  PNEUMONIA\n",
       "12  [0, 0, 0, 0, 0, 0, 0, 0, 0, 6, 6, 6, 10, 10, 1...  PNEUMONIA\n",
       "13  [0, 0, 0, 0, 0, 0, 0, 0, 0, 0, 0, 0, 0, 0, 0, ...  PNEUMONIA\n",
       "14  [65, 65, 65, 67, 67, 67, 67, 67, 67, 69, 69, 6...  PNEUMONIA\n",
       "15  [0, 0, 0, 0, 0, 0, 0, 0, 0, 1, 1, 1, 2, 2, 2, ...  PNEUMONIA"
      ]
     },
     "execution_count": 3,
     "metadata": {},
     "output_type": "execute_result"
    }
   ],
   "source": [
    "# Load all validation images from directory\n",
    "data_dir = './val'\n",
    "img_path = []\n",
    "img_label = []\n",
    "\n",
    "folds = os.listdir(data_dir)\n",
    "\n",
    "for img in folds:\n",
    "    foldpath = os.path.join(data_dir, img)\n",
    "    imglist = os.listdir(foldpath)\n",
    "    \n",
    "    for file in imglist:\n",
    "        fpath = os.path.join(foldpath, file)\n",
    "        img_path.append(fpath)\n",
    "        img_label.append(img)\n",
    "\n",
    "# Load images and labels into arrays\n",
    "images = []\n",
    "for path in img_path:\n",
    "    img = cv2.imread(path)  # Read the image using OpenCV\n",
    "    img = cv2.cvtColor(img, cv2.COLOR_BGR2RGB)  # Convert BGR to RGB\n",
    "    img = cv2.resize(img, (224, 224))  # Resize the image to a consistent size\n",
    "    images.append(img.flatten())  # Flatten the image array\n",
    "\n",
    "# Convert image list to a numpy array\n",
    "images = np.array(images)\n",
    "\n",
    "# Create a DataFrame with image arrays and labels\n",
    "df_2 = pd.DataFrame({'Validation_images': images.tolist(), 'img_label': img_label})\n",
    "\n",
    "# Display the DataFrame\n",
    "df_2"
   ]
  },
  {
   "cell_type": "markdown",
   "id": "b4430718",
   "metadata": {},
   "source": [
    "#### Read all Test images from directory"
   ]
  },
  {
   "cell_type": "code",
   "execution_count": 4,
   "id": "450c5e8a",
   "metadata": {},
   "outputs": [
    {
     "data": {
      "text/html": [
       "<div>\n",
       "<style scoped>\n",
       "    .dataframe tbody tr th:only-of-type {\n",
       "        vertical-align: middle;\n",
       "    }\n",
       "\n",
       "    .dataframe tbody tr th {\n",
       "        vertical-align: top;\n",
       "    }\n",
       "\n",
       "    .dataframe thead th {\n",
       "        text-align: right;\n",
       "    }\n",
       "</style>\n",
       "<table border=\"1\" class=\"dataframe\">\n",
       "  <thead>\n",
       "    <tr style=\"text-align: right;\">\n",
       "      <th></th>\n",
       "      <th>test_images</th>\n",
       "      <th>img_label</th>\n",
       "    </tr>\n",
       "  </thead>\n",
       "  <tbody>\n",
       "    <tr>\n",
       "      <th>0</th>\n",
       "      <td>[32, 32, 32, 32, 32, 32, 32, 32, 32, 32, 32, 3...</td>\n",
       "      <td>NORMAL</td>\n",
       "    </tr>\n",
       "    <tr>\n",
       "      <th>1</th>\n",
       "      <td>[40, 40, 40, 36, 36, 36, 30, 30, 30, 31, 31, 3...</td>\n",
       "      <td>NORMAL</td>\n",
       "    </tr>\n",
       "    <tr>\n",
       "      <th>2</th>\n",
       "      <td>[43, 43, 43, 39, 39, 39, 37, 37, 37, 37, 37, 3...</td>\n",
       "      <td>NORMAL</td>\n",
       "    </tr>\n",
       "    <tr>\n",
       "      <th>3</th>\n",
       "      <td>[70, 70, 70, 73, 73, 73, 73, 73, 73, 77, 77, 7...</td>\n",
       "      <td>NORMAL</td>\n",
       "    </tr>\n",
       "    <tr>\n",
       "      <th>4</th>\n",
       "      <td>[44, 44, 44, 39, 39, 39, 39, 39, 39, 41, 41, 4...</td>\n",
       "      <td>NORMAL</td>\n",
       "    </tr>\n",
       "    <tr>\n",
       "      <th>...</th>\n",
       "      <td>...</td>\n",
       "      <td>...</td>\n",
       "    </tr>\n",
       "    <tr>\n",
       "      <th>619</th>\n",
       "      <td>[46, 46, 46, 41, 41, 41, 31, 31, 31, 44, 44, 4...</td>\n",
       "      <td>PNEUMONIA</td>\n",
       "    </tr>\n",
       "    <tr>\n",
       "      <th>620</th>\n",
       "      <td>[164, 164, 164, 135, 135, 135, 101, 101, 101, ...</td>\n",
       "      <td>PNEUMONIA</td>\n",
       "    </tr>\n",
       "    <tr>\n",
       "      <th>621</th>\n",
       "      <td>[22, 22, 22, 18, 18, 18, 14, 14, 14, 13, 13, 1...</td>\n",
       "      <td>PNEUMONIA</td>\n",
       "    </tr>\n",
       "    <tr>\n",
       "      <th>622</th>\n",
       "      <td>[212, 212, 212, 208, 208, 208, 47, 47, 47, 54,...</td>\n",
       "      <td>PNEUMONIA</td>\n",
       "    </tr>\n",
       "    <tr>\n",
       "      <th>623</th>\n",
       "      <td>[8, 8, 8, 12, 12, 12, 14, 14, 14, 20, 20, 20, ...</td>\n",
       "      <td>PNEUMONIA</td>\n",
       "    </tr>\n",
       "  </tbody>\n",
       "</table>\n",
       "<p>624 rows × 2 columns</p>\n",
       "</div>"
      ],
      "text/plain": [
       "                                           test_images  img_label\n",
       "0    [32, 32, 32, 32, 32, 32, 32, 32, 32, 32, 32, 3...     NORMAL\n",
       "1    [40, 40, 40, 36, 36, 36, 30, 30, 30, 31, 31, 3...     NORMAL\n",
       "2    [43, 43, 43, 39, 39, 39, 37, 37, 37, 37, 37, 3...     NORMAL\n",
       "3    [70, 70, 70, 73, 73, 73, 73, 73, 73, 77, 77, 7...     NORMAL\n",
       "4    [44, 44, 44, 39, 39, 39, 39, 39, 39, 41, 41, 4...     NORMAL\n",
       "..                                                 ...        ...\n",
       "619  [46, 46, 46, 41, 41, 41, 31, 31, 31, 44, 44, 4...  PNEUMONIA\n",
       "620  [164, 164, 164, 135, 135, 135, 101, 101, 101, ...  PNEUMONIA\n",
       "621  [22, 22, 22, 18, 18, 18, 14, 14, 14, 13, 13, 1...  PNEUMONIA\n",
       "622  [212, 212, 212, 208, 208, 208, 47, 47, 47, 54,...  PNEUMONIA\n",
       "623  [8, 8, 8, 12, 12, 12, 14, 14, 14, 20, 20, 20, ...  PNEUMONIA\n",
       "\n",
       "[624 rows x 2 columns]"
      ]
     },
     "execution_count": 4,
     "metadata": {},
     "output_type": "execute_result"
    }
   ],
   "source": [
    "# Load all test images from directory\n",
    "data_dir = './test'\n",
    "img_path = []\n",
    "img_label = []\n",
    "\n",
    "folds = os.listdir(data_dir)\n",
    "\n",
    "for img in folds:\n",
    "    foldpath = os.path.join(data_dir, img)\n",
    "    imglist = os.listdir(foldpath)\n",
    "    \n",
    "    for file in imglist:\n",
    "        fpath = os.path.join(foldpath, file)\n",
    "        img_path.append(fpath)\n",
    "        img_label.append(img)\n",
    "\n",
    "# Load images and labels into arrays\n",
    "images = []\n",
    "for path in img_path:\n",
    "    img = cv2.imread(path)  # Read the image using OpenCV\n",
    "    img = cv2.cvtColor(img, cv2.COLOR_BGR2RGB)  # Convert BGR to RGB\n",
    "    img = cv2.resize(img, (224, 224))  # Resize the image to a consistent size\n",
    "    images.append(img.flatten())  # Flatten the image array\n",
    "\n",
    "# Convert image list to a numpy array\n",
    "images = np.array(images)\n",
    "\n",
    "# Create a DataFrame with image arrays and labels\n",
    "df_3 = pd.DataFrame({'test_images': images.tolist(), 'img_label': img_label})\n",
    "\n",
    "# Display the DataFrame\n",
    "df_3"
   ]
  },
  {
   "cell_type": "markdown",
   "id": "b913fc0a",
   "metadata": {},
   "source": [
    "#### # Build a CNN model\n"
   ]
  },
  {
   "cell_type": "code",
   "execution_count": 5,
   "id": "6951797f",
   "metadata": {},
   "outputs": [
    {
     "name": "stdout",
     "output_type": "stream",
     "text": [
      "Epoch 1/8\n",
      "163/163 [==============================] - 386s 2s/step - loss: 0.2550 - accuracy: 0.9059 - val_loss: 0.2477 - val_accuracy: 0.8750\n",
      "Epoch 2/8\n",
      "163/163 [==============================] - 160s 984ms/step - loss: 0.1079 - accuracy: 0.9605 - val_loss: 0.1732 - val_accuracy: 1.0000\n",
      "Epoch 3/8\n",
      "163/163 [==============================] - 161s 990ms/step - loss: 0.0799 - accuracy: 0.9712 - val_loss: 0.1011 - val_accuracy: 1.0000\n",
      "Epoch 4/8\n",
      "163/163 [==============================] - 158s 968ms/step - loss: 0.0594 - accuracy: 0.9781 - val_loss: 0.6893 - val_accuracy: 0.7500\n",
      "Epoch 5/8\n",
      "163/163 [==============================] - 156s 959ms/step - loss: 0.0465 - accuracy: 0.9816 - val_loss: 0.3492 - val_accuracy: 0.8750\n",
      "Epoch 6/8\n",
      "163/163 [==============================] - 156s 956ms/step - loss: 0.0276 - accuracy: 0.9906 - val_loss: 0.4491 - val_accuracy: 0.8750\n",
      "Epoch 7/8\n",
      "163/163 [==============================] - 156s 955ms/step - loss: 0.0217 - accuracy: 0.9919 - val_loss: 0.0411 - val_accuracy: 1.0000\n",
      "Epoch 8/8\n",
      "163/163 [==============================] - 156s 959ms/step - loss: 0.0115 - accuracy: 0.9962 - val_loss: 0.5944 - val_accuracy: 0.8125\n",
      "1/1 [==============================] - 0s 116ms/step - loss: 0.5944 - accuracy: 0.8125\n",
      "Validation accuracy: 0.8125\n"
     ]
    }
   ],
   "source": [
    "import numpy as np\n",
    "import pandas as pd\n",
    "import tensorflow as tf\n",
    "from sklearn.preprocessing import LabelEncoder\n",
    "from sklearn.model_selection import train_test_split\n",
    "from tensorflow.keras.models import Sequential\n",
    "from tensorflow.keras.layers import Conv2D, MaxPooling2D, Flatten, Dense\n",
    "from tensorflow.keras.utils import to_categorical\n",
    "\n",
    "# Load data and create the DataFrame df, df_2and df_3 as mentioned above\n",
    "\n",
    "# Preprocess the data\n",
    "def preprocess_image(image):\n",
    "    image = np.array(image)  # Convert the list to a numpy array\n",
    "    image = image / 255.0    # Normalize pixel values to [0, 1]\n",
    "    return image.reshape(224, 224, 3)  # Reshape the image back to its original dimensions\n",
    "\n",
    "# Convert labels to numerical format\n",
    "label_encoder = LabelEncoder()\n",
    "df['img_label'] = label_encoder.fit_transform(df['img_label'])\n",
    "df_2['img_label'] = label_encoder.transform(df_2['img_label'])\n",
    "df_3['img_label'] = label_encoder.transform(df_3['img_label'])\n",
    "\n",
    "\n",
    "# Split data into features (images) and labels\n",
    "train_images = np.array([preprocess_image(img) for img in df['train_images']])\n",
    "train_labels = to_categorical(df['img_label'])  # Convert labels to one-hot encoded format\n",
    "\n",
    "val_images = np.array([preprocess_image(img) for img in df_2['Validation_images']])\n",
    "val_labels = to_categorical(df_2['img_label'])\n",
    "\n",
    "test_images = np.array([preprocess_image(img) for img in df_3['test_images']])\n",
    "test_labels = to_categorical(df_3['img_label'])\n",
    "\n",
    "\n",
    "# Create a CNN model\n",
    "model = Sequential([\n",
    "    Conv2D(32, (3, 3), activation='relu', input_shape=(224, 224, 3)),\n",
    "    MaxPooling2D((2, 2)),\n",
    "    Conv2D(64, (3, 3), activation='relu'),\n",
    "    MaxPooling2D((2, 2)),\n",
    "    Conv2D(128, (3, 3), activation='relu'),\n",
    "    MaxPooling2D((2, 2)),\n",
    "    Flatten(),\n",
    "    Dense(128, activation='relu'),\n",
    "    Dense(len(label_encoder.classes_), activation='softmax')\n",
    "])\n",
    "\n",
    "# Compile the model\n",
    "model.compile(optimizer='adam', loss='categorical_crossentropy', metrics=['accuracy'])\n",
    "\n",
    "# Train the model\n",
    "num_epochs = 8\n",
    "batch_size = 32\n",
    "\n",
    "history = model.fit(train_images, train_labels, epochs=num_epochs, batch_size=batch_size, validation_data=(val_images, val_labels))\n",
    "\n",
    "# valid the model\n",
    "val_loss, val_accuracy = model.evaluate(val_images, val_labels)\n",
    "print(\"Validation accuracy:\", val_accuracy)"
   ]
  },
  {
   "cell_type": "markdown",
   "id": "82398ec4",
   "metadata": {},
   "source": [
    "#### Data Visualization of the model"
   ]
  },
  {
   "cell_type": "code",
   "execution_count": 6,
   "id": "52473f89",
   "metadata": {},
   "outputs": [
    {
     "data": {
      "text/plain": [
       "<function matplotlib.pyplot.tight_layout(*, pad=1.08, h_pad=None, w_pad=None, rect=None)>"
      ]
     },
     "execution_count": 6,
     "metadata": {},
     "output_type": "execute_result"
    },
    {
     "data": {
      "image/png": "[encoded data removed]",
      "text/plain": [
       "<Figure size 1440x576 with 2 Axes>"
      ]
     },
     "metadata": {
      "needs_background": "light"
     },
     "output_type": "display_data"
    }
   ],
   "source": [
    "# plot the performance of model\n",
    "\n",
    "train_acc = history.history['accuracy']\n",
    "train_loss = history.history['loss']\n",
    "val_acc = history.history['val_accuracy']\n",
    "val_loss = history.history['val_loss']\n",
    "index_loss = np.argmin(val_loss)\n",
    "val_lowest = val_loss[index_loss]\n",
    "index_acc = np.argmax(val_acc)\n",
    "acc_highest = val_acc[index_acc]\n",
    "Epochs = [i+1 for i in range(len(train_acc))]\n",
    "loss_label = f'best epoch= {str(index_loss + 1)}'\n",
    "acc_label = f'best epoch= {str(index_acc + 1)}'\n",
    "\n",
    "# Plot training history\n",
    "\n",
    "plt.figure(figsize= (20, 8))\n",
    "plt.style.use('fivethirtyeight')\n",
    "\n",
    "\n",
    "# training data vs validation data\n",
    "\n",
    "plt.subplot(1, 2, 2)\n",
    "plt.plot(Epochs, train_acc, 'red', label= 'Training Accuracy')\n",
    "plt.plot(Epochs, val_acc, 'black', label= 'Validation Accuracy')\n",
    "plt.scatter(index_acc + 1 , acc_highest, s= 150, c= 'blue', label= acc_label)\n",
    "plt.title('Training and Validation Accuracy')\n",
    "plt.xlabel('Epochs')\n",
    "plt.ylabel('Accuracy')\n",
    "plt.legend()\n",
    "\n",
    "plt.subplot(1, 2, 1)\n",
    "plt.plot(Epochs, train_loss, 'red', label= 'Training loss')\n",
    "plt.plot(Epochs, val_loss, 'black', label= 'Validation loss')\n",
    "plt.scatter(index_loss + 1, val_lowest, s= 150, c= 'blue', label= loss_label)\n",
    "plt.title('Training and Validation Loss')\n",
    "plt.xlabel('Epochs')\n",
    "plt.ylabel('Loss')\n",
    "plt.legend()\n",
    "\n",
    "\n",
    "\n",
    "plt.tight_layout"
   ]
  },
  {
   "cell_type": "code",
   "execution_count": 7,
   "id": "fb0b6059",
   "metadata": {},
   "outputs": [
    {
     "name": "stdout",
     "output_type": "stream",
     "text": [
      "Training Labels: [0 1]\n",
      "Validation Labels: [0 1]\n",
      "Test Labels: [0 1]\n",
      "Label Encoder Classes: ['NORMAL' 'PNEUMONIA']\n"
     ]
    }
   ],
   "source": [
    "# Print unique labels in different datasets\n",
    "print(\"Training Labels:\", df['img_label'].unique())\n",
    "print(\"Validation Labels:\", df_2['img_label'].unique())\n",
    "print(\"Test Labels:\", df_3['img_label'].unique())\n",
    "print(\"Label Encoder Classes:\", label_encoder.classes_)\n"
   ]
  },
  {
   "cell_type": "markdown",
   "id": "15d3d151",
   "metadata": {},
   "source": [
    "#### Test Accuracy got from CNN model  is 71 %"
   ]
  },
  {
   "cell_type": "code",
   "execution_count": 8,
   "id": "352990f9",
   "metadata": {},
   "outputs": [
    {
     "name": "stdout",
     "output_type": "stream",
     "text": [
      "20/20 [==============================] - 4s 210ms/step - loss: 2.3388 - accuracy: 0.7115\n",
      "Test Accuracy: 0.7115384340286255\n"
     ]
    }
   ],
   "source": [
    "# Evaluate the model on the test dataset\n",
    "\n",
    "loss, test_accuracy = model.evaluate(test_images, test_labels)\n",
    "print(\"Test Accuracy:\", test_accuracy)\n"
   ]
  },
  {
   "cell_type": "markdown",
   "id": "98d4e4e9",
   "metadata": {},
   "source": [
    "#### Confusion Matrix using CNN Model"
   ]
  },
  {
   "cell_type": "code",
   "execution_count": 9,
   "id": "013d4395",
   "metadata": {},
   "outputs": [
    {
     "name": "stdout",
     "output_type": "stream",
     "text": [
      "20/20 [==============================] - 4s 205ms/step\n"
     ]
    },
    {
     "data": {
      "image/png": "[encoded data removed]",
      "text/plain": [
       "<Figure size 360x216 with 2 Axes>"
      ]
     },
     "metadata": {},
     "output_type": "display_data"
    }
   ],
   "source": [
    "import numpy as np\n",
    "from sklearn.metrics import confusion_matrix\n",
    "import matplotlib.pyplot as plt\n",
    "import seaborn as sns\n",
    "\n",
    "# Predict labels using the trained model\n",
    "predictions = model.predict(test_images)\n",
    "predicted_labels = np.argmax(predictions, axis=1)  # Convert one-hot encoded predictions to labels\n",
    "\n",
    "# Convert one-hot encoded test_labels to labels\n",
    "actual_labels = np.argmax(test_labels, axis=1)\n",
    "\n",
    "# Create the confusion matrix\n",
    "cm = confusion_matrix(actual_labels, predicted_labels)\n",
    "\n",
    "\n",
    "# Plot the confusion matrix\n",
    "plt.figure(figsize=(5, 3))\n",
    "sns.heatmap(cm, annot=True, fmt=\"d\", cmap=\"Reds\",xticklabels=[\"Normal\", \"Pneumonia\"],yticklabels=[\"Normal\", \"Pneumonia\"])\n",
    "plt.xlabel('Predicted Labels')\n",
    "plt.ylabel('Actual Labels')\n",
    "plt.title('Confusion Matrix')\n",
    "plt.show()\n"
   ]
  },
  {
   "cell_type": "markdown",
   "id": "918b9a12",
   "metadata": {},
   "source": [
    "### Using  Another  Model: Resnet-50 to Compare with CNN"
   ]
  },
  {
   "cell_type": "code",
   "execution_count": 11,
   "id": "30233bef",
   "metadata": {},
   "outputs": [
    {
     "name": "stdout",
     "output_type": "stream",
     "text": [
      "Epoch 1/8\n",
      "163/163 [==============================] - 1201s 7s/step - loss: 0.6691 - accuracy: 0.9534 - val_loss: 597.6794 - val_accuracy: 0.5000\n",
      "Epoch 2/8\n",
      "163/163 [==============================] - 1180s 7s/step - loss: 0.1005 - accuracy: 0.9670 - val_loss: 1963.2820 - val_accuracy: 0.5000\n",
      "Epoch 3/8\n",
      "163/163 [==============================] - 1190s 7s/step - loss: 0.0566 - accuracy: 0.9810 - val_loss: 33.4609 - val_accuracy: 0.5000\n",
      "Epoch 4/8\n",
      "163/163 [==============================] - 978s 6s/step - loss: 0.0306 - accuracy: 0.9902 - val_loss: 1.7698 - val_accuracy: 0.5000\n",
      "Epoch 5/8\n",
      "163/163 [==============================] - 1511s 9s/step - loss: 0.0174 - accuracy: 0.9937 - val_loss: 13.3222 - val_accuracy: 0.5000\n",
      "Epoch 6/8\n",
      "163/163 [==============================] - 1215s 7s/step - loss: 0.0143 - accuracy: 0.9942 - val_loss: 8.0850 - val_accuracy: 0.5000\n",
      "Epoch 7/8\n",
      "163/163 [==============================] - 4217s 26s/step - loss: 0.0358 - accuracy: 0.9877 - val_loss: 0.0109 - val_accuracy: 1.0000\n",
      "Epoch 8/8\n",
      "163/163 [==============================] - 1220s 7s/step - loss: 0.2176 - accuracy: 0.9509 - val_loss: 1.6557 - val_accuracy: 0.8125\n",
      "1/1 [==============================] - 1s 650ms/step - loss: 1.6557 - accuracy: 0.8125\n",
      "Validation accuracy: 0.8125\n"
     ]
    }
   ],
   "source": [
    "import numpy as np\n",
    "import pandas as pd\n",
    "import tensorflow as tf\n",
    "from sklearn.preprocessing import LabelEncoder\n",
    "from sklearn.model_selection import train_test_split\n",
    "from tensorflow.keras.layers import Flatten, Dense\n",
    "from tensorflow.keras.applications import ResNet50\n",
    "from tensorflow.keras.utils import to_categorical\n",
    "\n",
    "# Load data and create the DataFrame df and df_2 as mentioned above\n",
    "\n",
    "# Preprocess the data\n",
    "def preprocess_image(image):\n",
    "    image = np.array(image)  # Convert the list to a numpy array\n",
    "    image = image / 255.0    # Normalize pixel values to [0, 1]\n",
    "    return image.reshape(224, 224, 3)  # Reshape the image back to its original dimensions\n",
    "\n",
    "# Convert labels to numerical format\n",
    "label_encoder = LabelEncoder()\n",
    "df['img_label'] = label_encoder.fit_transform(df['img_label'])\n",
    "df_2['img_label'] = label_encoder.transform(df_2['img_label'])\n",
    "df_3['img_label'] = label_encoder.transform(df_3['img_label'])\n",
    "\n",
    "# Split data into features (images) and labels\n",
    "train_images = np.array([preprocess_image(img) for img in df['train_images']])\n",
    "train_labels = to_categorical(df['img_label'])  # Convert labels to one-hot encoded format\n",
    "\n",
    "val_images = np.array([preprocess_image(img) for img in df_2['Validation_images']])\n",
    "val_labels = to_categorical(df_2['img_label'])\n",
    "\n",
    "test_images = np.array([preprocess_image(img) for img in df_3['test_images']])\n",
    "test_labels = to_categorical(df_3['img_label'])\n",
    "\n",
    "# Create a ResNet-50 model\n",
    "base_model = ResNet50(weights='imagenet', include_top=False, input_shape=(224, 224, 3))\n",
    "x = base_model.output\n",
    "x = Flatten()(x)\n",
    "x = Dense(128, activation='relu')(x)\n",
    "predictions = Dense(len(label_encoder.classes_), activation='softmax')(x)\n",
    "\n",
    "model = tf.keras.Model(inputs=base_model.input, outputs=predictions)\n",
    "\n",
    "# Compile the model\n",
    "model.compile(optimizer='adam', loss='categorical_crossentropy', metrics=['accuracy'])\n",
    "\n",
    "# Train the model\n",
    "num_epochs = 8\n",
    "batch_size = 32\n",
    "\n",
    "history = model.fit(train_images, train_labels, epochs=num_epochs, batch_size=batch_size, validation_data=(val_images, val_labels))\n",
    "\n",
    "# validate the model\n",
    "val_loss, val_accuracy = model.evaluate(val_images, val_labels)\n",
    "print(\"Validation accuracy:\", val_accuracy)\n"
   ]
  },
  {
   "cell_type": "markdown",
   "id": "152d5ef0",
   "metadata": {},
   "source": [
    "#### Test Accuracy got from Resnet-50 model  is 67 %\n"
   ]
  },
  {
   "cell_type": "code",
   "execution_count": 13,
   "id": "5465eab9",
   "metadata": {},
   "outputs": [
    {
     "name": "stdout",
     "output_type": "stream",
     "text": [
      "20/20 [==============================] - 25s 1s/step - loss: 4.3774 - accuracy: 0.6763\n",
      "Test Accuracy: 0.6762820482254028\n"
     ]
    }
   ],
   "source": [
    "# Evaluate the model on the test dataset\n",
    "\n",
    "loss, test_accuracy = model.evaluate(test_images, test_labels)\n",
    "print(\"Test Accuracy:\", test_accuracy)\n"
   ]
  },
  {
   "cell_type": "markdown",
   "id": "7ce9e0ba",
   "metadata": {},
   "source": [
    "#### Confusion Matrix using Resnet-50 Model"
   ]
  },
  {
   "cell_type": "code",
   "execution_count": 17,
   "id": "52ad7b3b",
   "metadata": {},
   "outputs": [
    {
     "name": "stdout",
     "output_type": "stream",
     "text": [
      "20/20 [==============================] - 25s 1s/step\n"
     ]
    },
    {
     "data": {
      "image/png": "[encoded data removed]",
      "text/plain": [
       "<Figure size 288x216 with 2 Axes>"
      ]
     },
     "metadata": {},
     "output_type": "display_data"
    }
   ],
   "source": [
    "# Confusion Matrix\n",
    "# Predict labels using the trained model\n",
    "predictions = model.predict(test_images)\n",
    "predicted_labels = np.argmax(predictions, axis=1)  # Convert probabilities to labels\n",
    "\n",
    "# Convert one-hot encoded test_labels to labels\n",
    "actual_labels = np.argmax(test_labels, axis=1)\n",
    "\n",
    "# Create the confusion matrix\n",
    "cm = confusion_matrix(actual_labels, predicted_labels)\n",
    "\n",
    " \n",
    "# Plot the confusion matrix\n",
    "plt.figure(figsize=(4, 3))\n",
    "sns.heatmap(cm, annot=True, fmt=\"d\", cmap=\"Blues\", xticklabels=[\"Normal\", \"Pneumonia\"], yticklabels=[\"Normal\", \"Pneumonia\"])\n",
    "plt.xlabel('Predicted Labels')\n",
    "plt.ylabel('Actual Labels')\n",
    "plt.title('Confusion Matrix')\n",
    "plt.show()\n"
   ]
  },
  {
   "cell_type": "markdown",
   "id": "9869f537",
   "metadata": {},
   "source": [
    "#### Using two types of deep leanring approches one is CNN and another one is Resnet-50. Both are compare as baseline. Our verdict analysis that CNN perform better (71%) than Resnet-50 (67%) for chest-xray images of Pneumonia prediction.  "
   ]
  },
  {
   "cell_type": "code",
   "execution_count": null,
   "id": "3d9a10ab",
   "metadata": {},
   "outputs": [],
   "source": []
  }
 ],
 "metadata": {
  "kernelspec": {
   "display_name": "Python 3 (ipykernel)",
   "language": "python",
   "name": "python3"
  },
  "language_info": {
   "codemirror_mode": {
    "name": "ipython",
    "version": 3
   },
   "file_extension": ".py",
   "mimetype": "text/x-python",
   "name": "python",
   "nbconvert_exporter": "python",
   "pygments_lexer": "ipython3",
   "version": "3.9.12"
  }
 },
 "nbformat": 4,
 "nbformat_minor": 5
}
